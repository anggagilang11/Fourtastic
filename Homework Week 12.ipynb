{
 "cells": [
  {
   "cell_type": "markdown",
   "id": "55f967c4-a547-4ddf-a72e-1b8032bf2998",
   "metadata": {},
   "source": [
    "# Business Understanding"
   ]
  },
  {
   "cell_type": "markdown",
   "id": "599817d5-6098-42fe-a227-3bc4c46592f7",
   "metadata": {},
   "source": [
    "## 1. Background"
   ]
  },
  {
   "cell_type": "markdown",
   "id": "cdadaaf1-f566-470b-b5ec-2cfd4c14234c",
   "metadata": {},
   "source": [
    "### Peran dalam dataset"
   ]
  },
  {
   "cell_type": "markdown",
   "id": "b6182f57-2e4e-4d53-ba48-a2971dfe02d5",
   "metadata": {},
   "source": [
    "Muhammad Fariz Shadiqin : berperan untuk eksplorasi data, mencari insight dan rekomendasi untuk perusahaan WOMart.\n",
    "Evira Marnolia : berperan dalam mencari insight, rekomendasi, dan membuat grafik  \n",
    "Yosafat Angga Gilang Pratama : berperan dalam eksplorasi data, mencari insight, membuat grafik, dan rekomendasi  \n",
    "..."
   ]
  },
  {
   "cell_type": "markdown",
   "id": "69479f16-a634-4022-b17c-cbdef28b41ca",
   "metadata": {},
   "source": [
    "### Permasalahan yang ingin diselesaikan"
   ]
  },
  {
   "cell_type": "markdown",
   "id": "e2f348e4-626a-4807-bc8e-1b154f8a688e",
   "metadata": {},
   "source": [
    "Perusahaan WOMart, adalah jaringan ritel nutrisi dan suplemen terkemuka yang menawarkan berbagai produk untuk semua kebutuhan kesehatan dan kebugaran. WOMart mengikuti strategi distribusi multi-saluran dengan lebih dari 350 toko ritel yang tersebar di lebih dari 100 kota. Peramalan penjualan yang efektif untuk toko memberikan wawasan penting tentang aliran kas yang akan datang, sehingga WOMart dapat merencanakan aliran kas dengan lebih akurat di tingkat toko."
   ]
  },
  {
   "cell_type": "markdown",
   "id": "62513f06-1f09-46ef-abd9-b451868fd653",
   "metadata": {},
   "source": [
    "### Goal yang ingin dicapai"
   ]
  },
  {
   "cell_type": "markdown",
   "id": "223a435f-d73c-406f-9a37-d29c538bc6c3",
   "metadata": {},
   "source": [
    "Meningkatkan Akurasi Peramalan Penjualan dengan menggunakan data historis untuk meningkatkan prediksi penjualan dan merencanakan kebutuhan stok dengan lebih baik."
   ]
  },
  {
   "cell_type": "markdown",
   "id": "2f1f76bb-8a68-4218-8bb6-89bc5c522744",
   "metadata": {},
   "source": [
    "### Objective yang ingin dilakukan"
   ]
  },
  {
   "cell_type": "markdown",
   "id": "0d55448a-8465-489b-953e-4e16cca45f3b",
   "metadata": {},
   "source": [
    "1. Meningkatkan revenue (sales) setiap bulannya.\n",
    "2. Efisiensi dalam distribusi produk di setiap toko.\n",
    "3. Penerapan diskon yang tepat dan menguntungkan."
   ]
  },
  {
   "cell_type": "markdown",
   "id": "6a4a8779-bf39-4cbe-a8d8-ae43c6c37a7e",
   "metadata": {},
   "source": [
    "### Business metric untuk mengukur ketercapaian objective"
   ]
  },
  {
   "cell_type": "markdown",
   "id": "971c9e1c-cf57-4df9-9f24-ead1ead6e879",
   "metadata": {},
   "source": [
    "1. Persentase Revenue setiap bulannya (naik 3% - 5%).\n",
    "2. Frekuensi pembelian produk naik 2%.\n",
    "3. Rating atau tingkat kepuasan pelanggan di setiap toko"
   ]
  },
  {
   "cell_type": "markdown",
   "id": "593be0bc-ea7b-48dc-b130-c2e98ab4e692",
   "metadata": {},
   "source": [
    "## 2. Insight"
   ]
  },
  {
   "cell_type": "code",
   "execution_count": 81,
   "id": "8b77f1b9-9967-48de-b7e5-91f6053d8465",
   "metadata": {},
   "outputs": [
    {
     "data": {
      "text/html": [
       "<div>\n",
       "<style scoped>\n",
       "    .dataframe tbody tr th:only-of-type {\n",
       "        vertical-align: middle;\n",
       "    }\n",
       "\n",
       "    .dataframe tbody tr th {\n",
       "        vertical-align: top;\n",
       "    }\n",
       "\n",
       "    .dataframe thead th {\n",
       "        text-align: right;\n",
       "    }\n",
       "</style>\n",
       "<table border=\"1\" class=\"dataframe\">\n",
       "  <thead>\n",
       "    <tr style=\"text-align: right;\">\n",
       "      <th></th>\n",
       "      <th>ID</th>\n",
       "      <th>Store_id</th>\n",
       "      <th>Store_Type</th>\n",
       "      <th>Location_Type</th>\n",
       "      <th>Region_Code</th>\n",
       "      <th>Date</th>\n",
       "      <th>Holiday</th>\n",
       "      <th>Discount</th>\n",
       "      <th>#Order</th>\n",
       "      <th>Sales</th>\n",
       "    </tr>\n",
       "  </thead>\n",
       "  <tbody>\n",
       "    <tr>\n",
       "      <th>0</th>\n",
       "      <td>T1000001</td>\n",
       "      <td>1</td>\n",
       "      <td>S1</td>\n",
       "      <td>L3</td>\n",
       "      <td>R1</td>\n",
       "      <td>2018-01-01</td>\n",
       "      <td>1</td>\n",
       "      <td>Yes</td>\n",
       "      <td>9</td>\n",
       "      <td>7011.84</td>\n",
       "    </tr>\n",
       "    <tr>\n",
       "      <th>1</th>\n",
       "      <td>T1000002</td>\n",
       "      <td>253</td>\n",
       "      <td>S4</td>\n",
       "      <td>L2</td>\n",
       "      <td>R1</td>\n",
       "      <td>2018-01-01</td>\n",
       "      <td>1</td>\n",
       "      <td>Yes</td>\n",
       "      <td>60</td>\n",
       "      <td>51789.12</td>\n",
       "    </tr>\n",
       "    <tr>\n",
       "      <th>2</th>\n",
       "      <td>T1000003</td>\n",
       "      <td>252</td>\n",
       "      <td>S3</td>\n",
       "      <td>L2</td>\n",
       "      <td>R1</td>\n",
       "      <td>2018-01-01</td>\n",
       "      <td>1</td>\n",
       "      <td>Yes</td>\n",
       "      <td>42</td>\n",
       "      <td>36868.20</td>\n",
       "    </tr>\n",
       "    <tr>\n",
       "      <th>3</th>\n",
       "      <td>T1000004</td>\n",
       "      <td>251</td>\n",
       "      <td>S2</td>\n",
       "      <td>L3</td>\n",
       "      <td>R1</td>\n",
       "      <td>2018-01-01</td>\n",
       "      <td>1</td>\n",
       "      <td>Yes</td>\n",
       "      <td>23</td>\n",
       "      <td>19715.16</td>\n",
       "    </tr>\n",
       "    <tr>\n",
       "      <th>4</th>\n",
       "      <td>T1000005</td>\n",
       "      <td>250</td>\n",
       "      <td>S2</td>\n",
       "      <td>L3</td>\n",
       "      <td>R4</td>\n",
       "      <td>2018-01-01</td>\n",
       "      <td>1</td>\n",
       "      <td>Yes</td>\n",
       "      <td>62</td>\n",
       "      <td>45614.52</td>\n",
       "    </tr>\n",
       "  </tbody>\n",
       "</table>\n",
       "</div>"
      ],
      "text/plain": [
       "         ID  Store_id Store_Type Location_Type Region_Code        Date  \\\n",
       "0  T1000001         1         S1            L3          R1  2018-01-01   \n",
       "1  T1000002       253         S4            L2          R1  2018-01-01   \n",
       "2  T1000003       252         S3            L2          R1  2018-01-01   \n",
       "3  T1000004       251         S2            L3          R1  2018-01-01   \n",
       "4  T1000005       250         S2            L3          R4  2018-01-01   \n",
       "\n",
       "   Holiday Discount  #Order     Sales  \n",
       "0        1      Yes       9   7011.84  \n",
       "1        1      Yes      60  51789.12  \n",
       "2        1      Yes      42  36868.20  \n",
       "3        1      Yes      23  19715.16  \n",
       "4        1      Yes      62  45614.52  "
      ]
     },
     "execution_count": 81,
     "metadata": {},
     "output_type": "execute_result"
    }
   ],
   "source": [
    "import pandas as pd\n",
    "import matplotlib.pyplot as plt\n",
    "import seaborn as sns\n",
    "\n",
    "df = pd.read_csv('Supplement_Sales_Forecast.csv')\n",
    "\n",
    "df.head()"
   ]
  },
  {
   "cell_type": "code",
   "execution_count": 82,
   "id": "d331d431-929e-4291-a08f-03c41d79c34e",
   "metadata": {},
   "outputs": [],
   "source": [
    "# pengelompokan kolom berdasarkan jenisnya\n",
    "cats = ['Store_Type', 'Location_Type', 'Region_Code', 'Discount']\n",
    "nums = ['Holiday', '#Order', 'Sales' ]"
   ]
  },
  {
   "cell_type": "code",
   "execution_count": 83,
   "id": "8da5f31e-272b-4b6c-969b-1b4e939f37d0",
   "metadata": {},
   "outputs": [
    {
     "data": {
      "text/html": [
       "<div>\n",
       "<style scoped>\n",
       "    .dataframe tbody tr th:only-of-type {\n",
       "        vertical-align: middle;\n",
       "    }\n",
       "\n",
       "    .dataframe tbody tr th {\n",
       "        vertical-align: top;\n",
       "    }\n",
       "\n",
       "    .dataframe thead th {\n",
       "        text-align: right;\n",
       "    }\n",
       "</style>\n",
       "<table border=\"1\" class=\"dataframe\">\n",
       "  <thead>\n",
       "    <tr style=\"text-align: right;\">\n",
       "      <th></th>\n",
       "      <th>Store_Type</th>\n",
       "      <th>Location_Type</th>\n",
       "      <th>Region_Code</th>\n",
       "      <th>Discount</th>\n",
       "    </tr>\n",
       "  </thead>\n",
       "  <tbody>\n",
       "    <tr>\n",
       "      <th>count</th>\n",
       "      <td>188340</td>\n",
       "      <td>188340</td>\n",
       "      <td>188340</td>\n",
       "      <td>188340</td>\n",
       "    </tr>\n",
       "    <tr>\n",
       "      <th>unique</th>\n",
       "      <td>4</td>\n",
       "      <td>5</td>\n",
       "      <td>4</td>\n",
       "      <td>2</td>\n",
       "    </tr>\n",
       "    <tr>\n",
       "      <th>top</th>\n",
       "      <td>S1</td>\n",
       "      <td>L1</td>\n",
       "      <td>R1</td>\n",
       "      <td>No</td>\n",
       "    </tr>\n",
       "    <tr>\n",
       "      <th>freq</th>\n",
       "      <td>88752</td>\n",
       "      <td>85140</td>\n",
       "      <td>63984</td>\n",
       "      <td>104051</td>\n",
       "    </tr>\n",
       "  </tbody>\n",
       "</table>\n",
       "</div>"
      ],
      "text/plain": [
       "       Store_Type Location_Type Region_Code Discount\n",
       "count      188340        188340      188340   188340\n",
       "unique          4             5           4        2\n",
       "top            S1            L1          R1       No\n",
       "freq        88752         85140       63984   104051"
      ]
     },
     "execution_count": 83,
     "metadata": {},
     "output_type": "execute_result"
    }
   ],
   "source": [
    "df[cats].describe()"
   ]
  },
  {
   "cell_type": "code",
   "execution_count": 84,
   "id": "e6ca7675-0d64-45b2-af28-d20b22ce186c",
   "metadata": {},
   "outputs": [
    {
     "data": {
      "text/html": [
       "<div>\n",
       "<style scoped>\n",
       "    .dataframe tbody tr th:only-of-type {\n",
       "        vertical-align: middle;\n",
       "    }\n",
       "\n",
       "    .dataframe tbody tr th {\n",
       "        vertical-align: top;\n",
       "    }\n",
       "\n",
       "    .dataframe thead th {\n",
       "        text-align: right;\n",
       "    }\n",
       "</style>\n",
       "<table border=\"1\" class=\"dataframe\">\n",
       "  <thead>\n",
       "    <tr style=\"text-align: right;\">\n",
       "      <th></th>\n",
       "      <th>Holiday</th>\n",
       "      <th>#Order</th>\n",
       "      <th>Sales</th>\n",
       "    </tr>\n",
       "  </thead>\n",
       "  <tbody>\n",
       "    <tr>\n",
       "      <th>count</th>\n",
       "      <td>188340.000000</td>\n",
       "      <td>188340.000000</td>\n",
       "      <td>188340.000000</td>\n",
       "    </tr>\n",
       "    <tr>\n",
       "      <th>mean</th>\n",
       "      <td>0.131783</td>\n",
       "      <td>68.205692</td>\n",
       "      <td>42784.327982</td>\n",
       "    </tr>\n",
       "    <tr>\n",
       "      <th>std</th>\n",
       "      <td>0.338256</td>\n",
       "      <td>30.467415</td>\n",
       "      <td>18456.708302</td>\n",
       "    </tr>\n",
       "    <tr>\n",
       "      <th>min</th>\n",
       "      <td>0.000000</td>\n",
       "      <td>0.000000</td>\n",
       "      <td>0.000000</td>\n",
       "    </tr>\n",
       "    <tr>\n",
       "      <th>25%</th>\n",
       "      <td>0.000000</td>\n",
       "      <td>48.000000</td>\n",
       "      <td>30426.000000</td>\n",
       "    </tr>\n",
       "    <tr>\n",
       "      <th>50%</th>\n",
       "      <td>0.000000</td>\n",
       "      <td>63.000000</td>\n",
       "      <td>39678.000000</td>\n",
       "    </tr>\n",
       "    <tr>\n",
       "      <th>75%</th>\n",
       "      <td>0.000000</td>\n",
       "      <td>82.000000</td>\n",
       "      <td>51909.000000</td>\n",
       "    </tr>\n",
       "    <tr>\n",
       "      <th>max</th>\n",
       "      <td>1.000000</td>\n",
       "      <td>371.000000</td>\n",
       "      <td>247215.000000</td>\n",
       "    </tr>\n",
       "  </tbody>\n",
       "</table>\n",
       "</div>"
      ],
      "text/plain": [
       "             Holiday         #Order          Sales\n",
       "count  188340.000000  188340.000000  188340.000000\n",
       "mean        0.131783      68.205692   42784.327982\n",
       "std         0.338256      30.467415   18456.708302\n",
       "min         0.000000       0.000000       0.000000\n",
       "25%         0.000000      48.000000   30426.000000\n",
       "50%         0.000000      63.000000   39678.000000\n",
       "75%         0.000000      82.000000   51909.000000\n",
       "max         1.000000     371.000000  247215.000000"
      ]
     },
     "execution_count": 84,
     "metadata": {},
     "output_type": "execute_result"
    }
   ],
   "source": [
    "df[nums].describe()"
   ]
  },
  {
   "cell_type": "code",
   "execution_count": 85,
   "id": "75de881b-350a-42fb-98e0-1f62990f5e20",
   "metadata": {},
   "outputs": [
    {
     "data": {
      "image/png": "[encoded data removed]",
      "text/plain": [
       "<Figure size 640x480 with 4 Axes>"
      ]
     },
     "metadata": {},
     "output_type": "display_data"
    }
   ],
   "source": [
    "features = cats\n",
    "\n",
    "sns.set_style(\"white\")\n",
    "for i in range(0, len(features)):\n",
    "    plt.subplot(2, 2, i+1)\n",
    "    sns.countplot(x=df[features[i]], color = 'green')\n",
    "    plt.xlabel(features[i])\n",
    "    plt.tight_layout()"
   ]
  },
  {
   "cell_type": "code",
   "execution_count": 62,
   "id": "1904c577-7151-482c-87f0-38298ab4b121",
   "metadata": {},
   "outputs": [
    {
     "data": {
      "text/html": [
       "<div>\n",
       "<style scoped>\n",
       "    .dataframe tbody tr th:only-of-type {\n",
       "        vertical-align: middle;\n",
       "    }\n",
       "\n",
       "    .dataframe tbody tr th {\n",
       "        vertical-align: top;\n",
       "    }\n",
       "\n",
       "    .dataframe thead th {\n",
       "        text-align: right;\n",
       "    }\n",
       "</style>\n",
       "<table border=\"1\" class=\"dataframe\">\n",
       "  <thead>\n",
       "    <tr style=\"text-align: right;\">\n",
       "      <th></th>\n",
       "      <th>Store_id</th>\n",
       "      <th>Store_Type</th>\n",
       "      <th>Sales</th>\n",
       "    </tr>\n",
       "  </thead>\n",
       "  <tbody>\n",
       "    <tr>\n",
       "      <th>0</th>\n",
       "      <td>175</td>\n",
       "      <td>S4</td>\n",
       "      <td>52560255.15</td>\n",
       "    </tr>\n",
       "    <tr>\n",
       "      <th>1</th>\n",
       "      <td>337</td>\n",
       "      <td>S4</td>\n",
       "      <td>49342417.92</td>\n",
       "    </tr>\n",
       "    <tr>\n",
       "      <th>2</th>\n",
       "      <td>126</td>\n",
       "      <td>S4</td>\n",
       "      <td>46351830.51</td>\n",
       "    </tr>\n",
       "    <tr>\n",
       "      <th>3</th>\n",
       "      <td>312</td>\n",
       "      <td>S4</td>\n",
       "      <td>44890318.23</td>\n",
       "    </tr>\n",
       "    <tr>\n",
       "      <th>4</th>\n",
       "      <td>146</td>\n",
       "      <td>S4</td>\n",
       "      <td>43697690.67</td>\n",
       "    </tr>\n",
       "    <tr>\n",
       "      <th>5</th>\n",
       "      <td>160</td>\n",
       "      <td>S4</td>\n",
       "      <td>43171935.06</td>\n",
       "    </tr>\n",
       "    <tr>\n",
       "      <th>6</th>\n",
       "      <td>153</td>\n",
       "      <td>S4</td>\n",
       "      <td>40906471.74</td>\n",
       "    </tr>\n",
       "    <tr>\n",
       "      <th>7</th>\n",
       "      <td>354</td>\n",
       "      <td>S4</td>\n",
       "      <td>39130625.88</td>\n",
       "    </tr>\n",
       "    <tr>\n",
       "      <th>8</th>\n",
       "      <td>173</td>\n",
       "      <td>S4</td>\n",
       "      <td>37387163.25</td>\n",
       "    </tr>\n",
       "    <tr>\n",
       "      <th>9</th>\n",
       "      <td>87</td>\n",
       "      <td>S4</td>\n",
       "      <td>36934016.67</td>\n",
       "    </tr>\n",
       "    <tr>\n",
       "      <th>10</th>\n",
       "      <td>315</td>\n",
       "      <td>S4</td>\n",
       "      <td>36815851.53</td>\n",
       "    </tr>\n",
       "    <tr>\n",
       "      <th>11</th>\n",
       "      <td>85</td>\n",
       "      <td>S4</td>\n",
       "      <td>36205553.67</td>\n",
       "    </tr>\n",
       "    <tr>\n",
       "      <th>12</th>\n",
       "      <td>336</td>\n",
       "      <td>S4</td>\n",
       "      <td>35473797.60</td>\n",
       "    </tr>\n",
       "    <tr>\n",
       "      <th>13</th>\n",
       "      <td>176</td>\n",
       "      <td>S4</td>\n",
       "      <td>35366293.20</td>\n",
       "    </tr>\n",
       "    <tr>\n",
       "      <th>14</th>\n",
       "      <td>131</td>\n",
       "      <td>S4</td>\n",
       "      <td>35171306.64</td>\n",
       "    </tr>\n",
       "    <tr>\n",
       "      <th>15</th>\n",
       "      <td>294</td>\n",
       "      <td>S4</td>\n",
       "      <td>34772865.12</td>\n",
       "    </tr>\n",
       "    <tr>\n",
       "      <th>16</th>\n",
       "      <td>219</td>\n",
       "      <td>S4</td>\n",
       "      <td>34325395.50</td>\n",
       "    </tr>\n",
       "    <tr>\n",
       "      <th>17</th>\n",
       "      <td>150</td>\n",
       "      <td>S4</td>\n",
       "      <td>34291233.18</td>\n",
       "    </tr>\n",
       "    <tr>\n",
       "      <th>18</th>\n",
       "      <td>11</td>\n",
       "      <td>S4</td>\n",
       "      <td>34084541.91</td>\n",
       "    </tr>\n",
       "    <tr>\n",
       "      <th>19</th>\n",
       "      <td>15</td>\n",
       "      <td>S4</td>\n",
       "      <td>33536867.64</td>\n",
       "    </tr>\n",
       "  </tbody>\n",
       "</table>\n",
       "</div>"
      ],
      "text/plain": [
       "    Store_id Store_Type        Sales\n",
       "0        175         S4  52560255.15\n",
       "1        337         S4  49342417.92\n",
       "2        126         S4  46351830.51\n",
       "3        312         S4  44890318.23\n",
       "4        146         S4  43697690.67\n",
       "5        160         S4  43171935.06\n",
       "6        153         S4  40906471.74\n",
       "7        354         S4  39130625.88\n",
       "8        173         S4  37387163.25\n",
       "9         87         S4  36934016.67\n",
       "10       315         S4  36815851.53\n",
       "11        85         S4  36205553.67\n",
       "12       336         S4  35473797.60\n",
       "13       176         S4  35366293.20\n",
       "14       131         S4  35171306.64\n",
       "15       294         S4  34772865.12\n",
       "16       219         S4  34325395.50\n",
       "17       150         S4  34291233.18\n",
       "18        11         S4  34084541.91\n",
       "19        15         S4  33536867.64"
      ]
     },
     "execution_count": 62,
     "metadata": {},
     "output_type": "execute_result"
    }
   ],
   "source": [
    "grouped_df = df.groupby(['Store_id', 'Store_Type'])['Sales'].sum().reset_index()\n",
    "sorted_df = grouped_df.sort_values(by='Sales', ascending=False)\n",
    "sorted_df = sorted_df.reset_index(drop=True)\n",
    "\n",
    "sorted_df.head(20)"
   ]
  },
  {
   "cell_type": "code",
   "execution_count": 63,
   "id": "b67b3b35-846c-42b9-b021-d5090d5f97c2",
   "metadata": {},
   "outputs": [
    {
     "name": "stderr",
     "output_type": "stream",
     "text": [
      "C:\\Users\\ucer\\AppData\\Local\\Temp\\ipykernel_11980\\1105553284.py:5: SettingWithCopyWarning: \n",
      "A value is trying to be set on a copy of a slice from a DataFrame.\n",
      "Try using .loc[row_indexer,col_indexer] = value instead\n",
      "\n",
      "See the caveats in the documentation: https://pandas.pydata.org/pandas-docs/stable/user_guide/indexing.html#returning-a-view-versus-a-copy\n",
      "  top_5_stores['Store_Label'] = top_5_stores['Store_id'].astype(str) + ' - ' + top_5_stores['Store_Type']\n"
     ]
    },
    {
     "data": {
      "image/png": "[encoded data removed]",
      "text/plain": [
       "<Figure size 1200x800 with 1 Axes>"
      ]
     },
     "metadata": {},
     "output_type": "display_data"
    }
   ],
   "source": [
    "import matplotlib.pyplot as plt\n",
    "\n",
    "# Filter 5 teratas berdasarkan penjualan\n",
    "top_5_stores = sorted_df.head(5)\n",
    "top_5_stores['Store_Label'] = top_5_stores['Store_id'].astype(str) + ' - ' + top_5_stores['Store_Type']\n",
    "\n",
    "# Plotting\n",
    "plt.figure(figsize=(12, 8))\n",
    "bars = plt.barh(top_5_stores['Store_Label'], top_5_stores['Sales'], color='skyblue')\n",
    "plt.xlabel('Sales')\n",
    "plt.ylabel('Store ID - Store Type')\n",
    "plt.title('Top 5 Stores by Sales')\n",
    "plt.gca().invert_yaxis()  # Membalikkan urutan agar store dengan sales tertinggi di bagian atas\n",
    "\n",
    "plt.tight_layout()\n",
    "plt.show()\n"
   ]
  },
  {
   "cell_type": "code",
   "execution_count": 64,
   "id": "61068a88-d7c3-405b-a2c3-85e7c006010a",
   "metadata": {},
   "outputs": [
    {
     "data": {
      "text/html": [
       "<div>\n",
       "<style scoped>\n",
       "    .dataframe tbody tr th:only-of-type {\n",
       "        vertical-align: middle;\n",
       "    }\n",
       "\n",
       "    .dataframe tbody tr th {\n",
       "        vertical-align: top;\n",
       "    }\n",
       "\n",
       "    .dataframe thead th {\n",
       "        text-align: right;\n",
       "    }\n",
       "</style>\n",
       "<table border=\"1\" class=\"dataframe\">\n",
       "  <thead>\n",
       "    <tr style=\"text-align: right;\">\n",
       "      <th></th>\n",
       "      <th>Store_Type</th>\n",
       "      <th>Total_Sales</th>\n",
       "      <th>Unique_Stores</th>\n",
       "      <th>Efektivitas_Store</th>\n",
       "    </tr>\n",
       "  </thead>\n",
       "  <tbody>\n",
       "    <tr>\n",
       "      <th>0</th>\n",
       "      <td>S1</td>\n",
       "      <td>3.343866e+09</td>\n",
       "      <td>172</td>\n",
       "      <td>1.944108e+07</td>\n",
       "    </tr>\n",
       "    <tr>\n",
       "      <th>1</th>\n",
       "      <td>S4</td>\n",
       "      <td>2.752946e+09</td>\n",
       "      <td>89</td>\n",
       "      <td>3.093197e+07</td>\n",
       "    </tr>\n",
       "    <tr>\n",
       "      <th>2</th>\n",
       "      <td>S3</td>\n",
       "      <td>1.165658e+09</td>\n",
       "      <td>48</td>\n",
       "      <td>2.428454e+07</td>\n",
       "    </tr>\n",
       "    <tr>\n",
       "      <th>3</th>\n",
       "      <td>S2</td>\n",
       "      <td>7.955308e+08</td>\n",
       "      <td>56</td>\n",
       "      <td>1.420591e+07</td>\n",
       "    </tr>\n",
       "  </tbody>\n",
       "</table>\n",
       "</div>"
      ],
      "text/plain": [
       "  Store_Type   Total_Sales  Unique_Stores  Efektivitas_Store\n",
       "0         S1  3.343866e+09            172       1.944108e+07\n",
       "1         S4  2.752946e+09             89       3.093197e+07\n",
       "2         S3  1.165658e+09             48       2.428454e+07\n",
       "3         S2  7.955308e+08             56       1.420591e+07"
      ]
     },
     "execution_count": 64,
     "metadata": {},
     "output_type": "execute_result"
    }
   ],
   "source": [
    "grouped_df1 = df.groupby('Store_Type').agg(\n",
    "    Total_Sales=('Sales', 'sum'),\n",
    "    Unique_Stores=('Store_id', 'nunique')\n",
    ").reset_index()\n",
    "\n",
    "sorted_df1 = grouped_df1.sort_values(by='Total_Sales', ascending=False)\n",
    "sorted_df1['Efektivitas_Store'] = sorted_df1['Total_Sales'] / sorted_df1['Unique_Stores']\n",
    "sorted_df1 = sorted_df1.reset_index(drop=True)\n",
    "\n",
    "sorted_df1"
   ]
  },
  {
   "cell_type": "code",
   "execution_count": 75,
   "id": "7d60679c-2462-49f7-a961-032389780678",
   "metadata": {},
   "outputs": [
    {
     "data": {
      "image/png": "[encoded data removed]",
      "text/plain": [
       "<Figure size 600x400 with 1 Axes>"
      ]
     },
     "metadata": {},
     "output_type": "display_data"
    }
   ],
   "source": [
    "import matplotlib.pyplot as plt\n",
    "\n",
    "# Pie chart untuk Total Sales berdasarkan Store_Type\n",
    "plt.figure(figsize=(6, 4))\n",
    "plt.pie(\n",
    "    sorted_df1['Total_Sales'], \n",
    "    labels=sorted_df1['Store_Type'], \n",
    "    autopct='%1.1f%%',\n",
    ")\n",
    "plt.title('Total Sales Berdasarkan Store_Type')\n",
    "plt.show()"
   ]
  },
  {
   "cell_type": "code",
   "execution_count": 66,
   "id": "6901b535-4853-4ea2-9136-0c29c0960eb1",
   "metadata": {},
   "outputs": [
    {
     "data": {
      "text/html": [
       "<div>\n",
       "<style scoped>\n",
       "    .dataframe tbody tr th:only-of-type {\n",
       "        vertical-align: middle;\n",
       "    }\n",
       "\n",
       "    .dataframe tbody tr th {\n",
       "        vertical-align: top;\n",
       "    }\n",
       "\n",
       "    .dataframe thead th {\n",
       "        text-align: right;\n",
       "    }\n",
       "</style>\n",
       "<table border=\"1\" class=\"dataframe\">\n",
       "  <thead>\n",
       "    <tr style=\"text-align: right;\">\n",
       "      <th></th>\n",
       "      <th>Store_id</th>\n",
       "      <th>Region_Code</th>\n",
       "      <th>Sales</th>\n",
       "    </tr>\n",
       "  </thead>\n",
       "  <tbody>\n",
       "    <tr>\n",
       "      <th>0</th>\n",
       "      <td>175</td>\n",
       "      <td>R1</td>\n",
       "      <td>52560255.15</td>\n",
       "    </tr>\n",
       "    <tr>\n",
       "      <th>1</th>\n",
       "      <td>337</td>\n",
       "      <td>R1</td>\n",
       "      <td>49342417.92</td>\n",
       "    </tr>\n",
       "    <tr>\n",
       "      <th>2</th>\n",
       "      <td>126</td>\n",
       "      <td>R2</td>\n",
       "      <td>46351830.51</td>\n",
       "    </tr>\n",
       "    <tr>\n",
       "      <th>3</th>\n",
       "      <td>312</td>\n",
       "      <td>R1</td>\n",
       "      <td>44890318.23</td>\n",
       "    </tr>\n",
       "    <tr>\n",
       "      <th>4</th>\n",
       "      <td>146</td>\n",
       "      <td>R1</td>\n",
       "      <td>43697690.67</td>\n",
       "    </tr>\n",
       "    <tr>\n",
       "      <th>5</th>\n",
       "      <td>160</td>\n",
       "      <td>R1</td>\n",
       "      <td>43171935.06</td>\n",
       "    </tr>\n",
       "    <tr>\n",
       "      <th>6</th>\n",
       "      <td>153</td>\n",
       "      <td>R1</td>\n",
       "      <td>40906471.74</td>\n",
       "    </tr>\n",
       "    <tr>\n",
       "      <th>7</th>\n",
       "      <td>354</td>\n",
       "      <td>R1</td>\n",
       "      <td>39130625.88</td>\n",
       "    </tr>\n",
       "    <tr>\n",
       "      <th>8</th>\n",
       "      <td>173</td>\n",
       "      <td>R1</td>\n",
       "      <td>37387163.25</td>\n",
       "    </tr>\n",
       "    <tr>\n",
       "      <th>9</th>\n",
       "      <td>87</td>\n",
       "      <td>R3</td>\n",
       "      <td>36934016.67</td>\n",
       "    </tr>\n",
       "    <tr>\n",
       "      <th>10</th>\n",
       "      <td>315</td>\n",
       "      <td>R1</td>\n",
       "      <td>36815851.53</td>\n",
       "    </tr>\n",
       "    <tr>\n",
       "      <th>11</th>\n",
       "      <td>85</td>\n",
       "      <td>R1</td>\n",
       "      <td>36205553.67</td>\n",
       "    </tr>\n",
       "    <tr>\n",
       "      <th>12</th>\n",
       "      <td>336</td>\n",
       "      <td>R1</td>\n",
       "      <td>35473797.60</td>\n",
       "    </tr>\n",
       "    <tr>\n",
       "      <th>13</th>\n",
       "      <td>176</td>\n",
       "      <td>R3</td>\n",
       "      <td>35366293.20</td>\n",
       "    </tr>\n",
       "    <tr>\n",
       "      <th>14</th>\n",
       "      <td>131</td>\n",
       "      <td>R1</td>\n",
       "      <td>35171306.64</td>\n",
       "    </tr>\n",
       "    <tr>\n",
       "      <th>15</th>\n",
       "      <td>294</td>\n",
       "      <td>R2</td>\n",
       "      <td>34772865.12</td>\n",
       "    </tr>\n",
       "    <tr>\n",
       "      <th>16</th>\n",
       "      <td>219</td>\n",
       "      <td>R1</td>\n",
       "      <td>34325395.50</td>\n",
       "    </tr>\n",
       "    <tr>\n",
       "      <th>17</th>\n",
       "      <td>150</td>\n",
       "      <td>R1</td>\n",
       "      <td>34291233.18</td>\n",
       "    </tr>\n",
       "    <tr>\n",
       "      <th>18</th>\n",
       "      <td>11</td>\n",
       "      <td>R1</td>\n",
       "      <td>34084541.91</td>\n",
       "    </tr>\n",
       "    <tr>\n",
       "      <th>19</th>\n",
       "      <td>15</td>\n",
       "      <td>R1</td>\n",
       "      <td>33536867.64</td>\n",
       "    </tr>\n",
       "  </tbody>\n",
       "</table>\n",
       "</div>"
      ],
      "text/plain": [
       "    Store_id Region_Code        Sales\n",
       "0        175          R1  52560255.15\n",
       "1        337          R1  49342417.92\n",
       "2        126          R2  46351830.51\n",
       "3        312          R1  44890318.23\n",
       "4        146          R1  43697690.67\n",
       "5        160          R1  43171935.06\n",
       "6        153          R1  40906471.74\n",
       "7        354          R1  39130625.88\n",
       "8        173          R1  37387163.25\n",
       "9         87          R3  36934016.67\n",
       "10       315          R1  36815851.53\n",
       "11        85          R1  36205553.67\n",
       "12       336          R1  35473797.60\n",
       "13       176          R3  35366293.20\n",
       "14       131          R1  35171306.64\n",
       "15       294          R2  34772865.12\n",
       "16       219          R1  34325395.50\n",
       "17       150          R1  34291233.18\n",
       "18        11          R1  34084541.91\n",
       "19        15          R1  33536867.64"
      ]
     },
     "execution_count": 66,
     "metadata": {},
     "output_type": "execute_result"
    }
   ],
   "source": [
    "grouped_df2 = df.groupby(['Store_id', 'Region_Code'])['Sales'].sum().reset_index()\n",
    "sorted_df2 = grouped_df2.sort_values(by='Sales', ascending=False)\n",
    "sorted_df2 = sorted_df2.reset_index(drop=True)\n",
    "\n",
    "sorted_df2.head(20)"
   ]
  },
  {
   "cell_type": "code",
   "execution_count": 67,
   "id": "ea2d7caa-6198-43ce-ae07-df0fee16922c",
   "metadata": {},
   "outputs": [
    {
     "name": "stderr",
     "output_type": "stream",
     "text": [
      "C:\\Users\\ucer\\AppData\\Local\\Temp\\ipykernel_11980\\2915021258.py:3: SettingWithCopyWarning: \n",
      "A value is trying to be set on a copy of a slice from a DataFrame.\n",
      "Try using .loc[row_indexer,col_indexer] = value instead\n",
      "\n",
      "See the caveats in the documentation: https://pandas.pydata.org/pandas-docs/stable/user_guide/indexing.html#returning-a-view-versus-a-copy\n",
      "  top_5_stores['Store_Label'] = top_5_stores['Store_id'].astype(str) + ' - ' + top_5_stores['Region_Code']\n"
     ]
    },
    {
     "data": {
      "image/png": "[encoded data removed]",
      "text/plain": [
       "<Figure size 1000x600 with 1 Axes>"
      ]
     },
     "metadata": {},
     "output_type": "display_data"
    }
   ],
   "source": [
    "# 5 store teratas berdasarkan sales\n",
    "top_5_stores = sorted_df2.head(5)\n",
    "top_5_stores['Store_Label'] = top_5_stores['Store_id'].astype(str) + ' - ' + top_5_stores['Region_Code']\n",
    "\n",
    "plt.figure(figsize=(10, 6))\n",
    "bars = plt.bar(top_5_stores['Store_Label'], top_5_stores['Sales'], color='skyblue')\n",
    "plt.xlabel('Store ID - Region Code')\n",
    "plt.ylabel('Sales')\n",
    "plt.title('Top 5 Stores by Sales')\n",
    "\n",
    "# menampilkan value dari tiap bar\n",
    "for bar in bars:\n",
    "    yval = bar.get_height()\n",
    "    plt.text(bar.get_x() + bar.get_width() / 2, yval, f'{yval:,.0f}', ha='center', va='bottom')\n",
    "\n",
    "plt.tight_layout()\n",
    "plt.show()"
   ]
  },
  {
   "cell_type": "code",
   "execution_count": 68,
   "id": "cfc62f61-d50a-4c68-adaa-1924d3f0cfb3",
   "metadata": {},
   "outputs": [
    {
     "data": {
      "text/html": [
       "<div>\n",
       "<style scoped>\n",
       "    .dataframe tbody tr th:only-of-type {\n",
       "        vertical-align: middle;\n",
       "    }\n",
       "\n",
       "    .dataframe tbody tr th {\n",
       "        vertical-align: top;\n",
       "    }\n",
       "\n",
       "    .dataframe thead th {\n",
       "        text-align: right;\n",
       "    }\n",
       "</style>\n",
       "<table border=\"1\" class=\"dataframe\">\n",
       "  <thead>\n",
       "    <tr style=\"text-align: right;\">\n",
       "      <th></th>\n",
       "      <th>Region_Code</th>\n",
       "      <th>Total_Sales</th>\n",
       "      <th>Unique_Stores</th>\n",
       "      <th>Efektivitas_Region</th>\n",
       "    </tr>\n",
       "  </thead>\n",
       "  <tbody>\n",
       "    <tr>\n",
       "      <th>0</th>\n",
       "      <td>R1</td>\n",
       "      <td>2.992243e+09</td>\n",
       "      <td>124</td>\n",
       "      <td>2.413099e+07</td>\n",
       "    </tr>\n",
       "    <tr>\n",
       "      <th>1</th>\n",
       "      <td>R2</td>\n",
       "      <td>2.170172e+09</td>\n",
       "      <td>105</td>\n",
       "      <td>2.066830e+07</td>\n",
       "    </tr>\n",
       "    <tr>\n",
       "      <th>2</th>\n",
       "      <td>R3</td>\n",
       "      <td>1.870205e+09</td>\n",
       "      <td>86</td>\n",
       "      <td>2.174657e+07</td>\n",
       "    </tr>\n",
       "    <tr>\n",
       "      <th>3</th>\n",
       "      <td>R4</td>\n",
       "      <td>1.025381e+09</td>\n",
       "      <td>50</td>\n",
       "      <td>2.050761e+07</td>\n",
       "    </tr>\n",
       "  </tbody>\n",
       "</table>\n",
       "</div>"
      ],
      "text/plain": [
       "  Region_Code   Total_Sales  Unique_Stores  Efektivitas_Region\n",
       "0          R1  2.992243e+09            124        2.413099e+07\n",
       "1          R2  2.170172e+09            105        2.066830e+07\n",
       "2          R3  1.870205e+09             86        2.174657e+07\n",
       "3          R4  1.025381e+09             50        2.050761e+07"
      ]
     },
     "execution_count": 68,
     "metadata": {},
     "output_type": "execute_result"
    }
   ],
   "source": [
    "grouped_df3 = df.groupby('Region_Code').agg(\n",
    "    Total_Sales=('Sales', 'sum'),\n",
    "    Unique_Stores=('Store_id', 'nunique')\n",
    ").reset_index()\n",
    "\n",
    "sorted_df3 = grouped_df3.sort_values(by='Total_Sales', ascending=False)\n",
    "sorted_df3['Efektivitas_Region'] = sorted_df3['Total_Sales'] / sorted_df3['Unique_Stores']\n",
    "sorted_df3 = sorted_df3.reset_index(drop=True)\n",
    "\n",
    "sorted_df3"
   ]
  },
  {
   "cell_type": "code",
   "execution_count": 69,
   "id": "514fbd26-aad8-4ccd-b96d-069db1f1b3d4",
   "metadata": {},
   "outputs": [
    {
     "data": {
      "image/png": "[encoded data removed]",
      "text/plain": [
       "<Figure size 600x400 with 1 Axes>"
      ]
     },
     "metadata": {},
     "output_type": "display_data"
    }
   ],
   "source": [
    "# Plotting pie chart\n",
    "plt.figure(figsize=(6, 4))\n",
    "plt.pie(sorted_df3['Total_Sales'], \n",
    "        labels=sorted_df3['Region_Code'], \n",
    "        autopct='%1.1f%%')\n",
    "\n",
    "plt.title('Total Sales Berdasarkan Region_Code')\n",
    "plt.axis('equal')  # Equal aspect ratio ensures that pie is drawn as a circle.\n",
    "plt.show()"
   ]
  },
  {
   "cell_type": "code",
   "execution_count": 70,
   "id": "f7cccf1b-1079-46c2-988a-8c43a7a7d438",
   "metadata": {},
   "outputs": [
    {
     "data": {
      "text/html": [
       "<div>\n",
       "<style scoped>\n",
       "    .dataframe tbody tr th:only-of-type {\n",
       "        vertical-align: middle;\n",
       "    }\n",
       "\n",
       "    .dataframe tbody tr th {\n",
       "        vertical-align: top;\n",
       "    }\n",
       "\n",
       "    .dataframe thead th {\n",
       "        text-align: right;\n",
       "    }\n",
       "</style>\n",
       "<table border=\"1\" class=\"dataframe\">\n",
       "  <thead>\n",
       "    <tr style=\"text-align: right;\">\n",
       "      <th></th>\n",
       "      <th>Location_Type</th>\n",
       "      <th>Total_Sales</th>\n",
       "      <th>Unique_Stores</th>\n",
       "      <th>Efektivitas_Location</th>\n",
       "    </tr>\n",
       "  </thead>\n",
       "  <tbody>\n",
       "    <tr>\n",
       "      <th>0</th>\n",
       "      <td>L1</td>\n",
       "      <td>3.529359e+09</td>\n",
       "      <td>165</td>\n",
       "      <td>2.139006e+07</td>\n",
       "    </tr>\n",
       "    <tr>\n",
       "      <th>1</th>\n",
       "      <td>L2</td>\n",
       "      <td>2.872964e+09</td>\n",
       "      <td>94</td>\n",
       "      <td>3.056344e+07</td>\n",
       "    </tr>\n",
       "    <tr>\n",
       "      <th>2</th>\n",
       "      <td>L3</td>\n",
       "      <td>9.897865e+08</td>\n",
       "      <td>58</td>\n",
       "      <td>1.706529e+07</td>\n",
       "    </tr>\n",
       "    <tr>\n",
       "      <th>3</th>\n",
       "      <td>L5</td>\n",
       "      <td>3.509163e+08</td>\n",
       "      <td>27</td>\n",
       "      <td>1.299690e+07</td>\n",
       "    </tr>\n",
       "    <tr>\n",
       "      <th>4</th>\n",
       "      <td>L4</td>\n",
       "      <td>3.149745e+08</td>\n",
       "      <td>21</td>\n",
       "      <td>1.499879e+07</td>\n",
       "    </tr>\n",
       "  </tbody>\n",
       "</table>\n",
       "</div>"
      ],
      "text/plain": [
       "  Location_Type   Total_Sales  Unique_Stores  Efektivitas_Location\n",
       "0            L1  3.529359e+09            165          2.139006e+07\n",
       "1            L2  2.872964e+09             94          3.056344e+07\n",
       "2            L3  9.897865e+08             58          1.706529e+07\n",
       "3            L5  3.509163e+08             27          1.299690e+07\n",
       "4            L4  3.149745e+08             21          1.499879e+07"
      ]
     },
     "execution_count": 70,
     "metadata": {},
     "output_type": "execute_result"
    }
   ],
   "source": [
    "grouped_df4 = df.groupby('Location_Type').agg(\n",
    "    Total_Sales=('Sales', 'sum'),\n",
    "    Unique_Stores=('Store_id', 'nunique')\n",
    ").reset_index()\n",
    "\n",
    "sorted_df4 = grouped_df4.sort_values(by='Total_Sales', ascending=False)\n",
    "sorted_df4['Efektivitas_Location'] = sorted_df4['Total_Sales'] / sorted_df4['Unique_Stores']\n",
    "sorted_df4 = sorted_df4.reset_index(drop=True)\n",
    "\n",
    "sorted_df4"
   ]
  },
  {
   "cell_type": "code",
   "execution_count": 76,
   "id": "a3113edd-3b40-4f07-be1f-d6b826398437",
   "metadata": {},
   "outputs": [
    {
     "data": {
      "image/png": "[encoded data removed]",
      "text/plain": [
       "<Figure size 1000x600 with 1 Axes>"
      ]
     },
     "metadata": {},
     "output_type": "display_data"
    }
   ],
   "source": [
    "# Plotting bar chart\n",
    "plt.figure(figsize=(10, 6))\n",
    "bars = plt.bar(sorted_df4['Location_Type'], sorted_df4['Total_Sales'], color='skyblue')\n",
    "\n",
    "plt.xlabel('Location Type')\n",
    "plt.ylabel('Total Sales')\n",
    "plt.title('Total Sales Berdasarkan Location_Type')\n",
    "\n",
    "# Menampilkan value dari setiap bar\n",
    "for bar in bars:\n",
    "    yval = bar.get_height()\n",
    "    plt.text(bar.get_x() + bar.get_width() / 2, yval, f'{yval:,.0f}', ha='center', va='bottom')\n",
    "\n",
    "plt.tight_layout()\n",
    "plt.show()"
   ]
  },
  {
   "cell_type": "code",
   "execution_count": 72,
   "id": "0d683f05-e9dd-4b4a-8415-0f1d7393412d",
   "metadata": {},
   "outputs": [
    {
     "name": "stdout",
     "output_type": "stream",
     "text": [
      "Rata-rata Jumlah Pesanan Berdasarkan Status Diskon:\n",
      "Discount\n",
      "No     61.806153\n",
      "Yes    76.105637\n",
      "Name: #Order, dtype: float64\n"
     ]
    },
    {
     "data": {
      "image/png": "[encoded data removed]",
      "text/plain": [
       "<Figure size 640x480 with 1 Axes>"
      ]
     },
     "metadata": {},
     "output_type": "display_data"
    }
   ],
   "source": [
    "average_orders_discount = df.groupby('Discount')['#Order'].mean()\n",
    "\n",
    "print(\"Rata-rata Jumlah Pesanan Berdasarkan Status Diskon:\")\n",
    "print(average_orders_discount)\n",
    "\n",
    "average_orders_discount.plot(kind='bar', title='Rata-rata Jumlah Pesanan Berdasarkan Diskon')\n",
    "plt.xlabel('Diskon')\n",
    "plt.ylabel('Rata-rata Jumlah Pesanan')\n",
    "plt.show()"
   ]
  },
  {
   "cell_type": "code",
   "execution_count": 73,
   "id": "32a048cf-f7ee-440d-9685-6abdbf98868e",
   "metadata": {},
   "outputs": [
    {
     "name": "stdout",
     "output_type": "stream",
     "text": [
      "Rata-rata Penjualan Berdasarkan Status Diskon:\n",
      "Discount\n",
      "No     37403.679678\n",
      "Yes    49426.497620\n",
      "Name: Sales, dtype: float64\n"
     ]
    },
    {
     "data": {
      "image/png": "[encoded data removed]",
      "text/plain": [
       "<Figure size 640x480 with 1 Axes>"
      ]
     },
     "metadata": {},
     "output_type": "display_data"
    }
   ],
   "source": [
    "average_sales_discount = df.groupby('Discount')['Sales'].mean()\n",
    "\n",
    "print(\"Rata-rata Penjualan Berdasarkan Status Diskon:\")\n",
    "print(average_sales_discount)\n",
    "\n",
    "average_sales_discount.plot(kind='bar', title='Rata-rata Penjualan Berdasarkan Diskon')\n",
    "plt.xlabel('Diskon')\n",
    "plt.ylabel('Rata-rata Penjualan')\n",
    "plt.show()"
   ]
  },
  {
   "cell_type": "code",
   "execution_count": 77,
   "id": "f2e595c2-779c-4ea1-9231-91717827a705",
   "metadata": {},
   "outputs": [
    {
     "name": "stdout",
     "output_type": "stream",
     "text": [
      "Total Orders per Location Type by Holiday Status:\n",
      "  Location_Type  Holiday   #Order\n",
      "0            L1        0  4942664\n",
      "1            L1        1   614078\n",
      "2            L2        0  4093441\n",
      "3            L2        1   507234\n",
      "4            L3        0  1414631\n",
      "5            L3        1   176250\n",
      "6            L4        0   455939\n",
      "7            L4        1    57536\n",
      "8            L5        0   519020\n",
      "9            L5        1    65067\n"
     ]
    }
   ],
   "source": [
    "# Menghitung total jumlah order berdasarkan nilai Holiday dan Location_Type\n",
    "total_orders = df.groupby(['Location_Type', 'Holiday'])['#Order'].sum().reset_index()\n",
    "\n",
    "# Menampilkan total orders\n",
    "print(\"Total Orders per Location Type by Holiday Status:\")\n",
    "print(total_orders)"
   ]
  },
  {
   "cell_type": "markdown",
   "id": "6d760b94-d319-44bb-8478-d06f0bfa587e",
   "metadata": {},
   "source": [
    "### Kumpulan insight"
   ]
  },
  {
   "cell_type": "markdown",
   "id": "24774620-f626-4939-908e-15c2ec8bb6c6",
   "metadata": {},
   "source": [
    "1. Dilihat pada bagian tabel sorted.df, top 20 'Store_Id' yang diurutkan berdasarkan total Sales (revenue) berasal dari 'Store_Type' S4. Hal ini menunjukkan bahwa 'Store_Type' S4 memiliki kontribusi yang cukup besar dalam perolehan revenue dari perusahaan WOMart.\n",
    "2. Sorted.df1 menunjukkan betapa efektifnya 'Store_Type' S4 dalam memaksimalkan potensi yang ada, walaupun memang secara total jumlah revenue yang dihasilkan tidak sebanyak 'Store_Type' S1.\n",
    "3. Dilihat pada bagian tabel sorted.df2, top 20 'Store_Id' didominasi dari 'Region_Code' R1. Hal ini menunjukkan bahwa 'Region_Code' R1 memiliki kontribusi yang cukup besar dalam perolehan revenue dari perusahaan WOMart.\n",
    "4. Sorted.df3 menunjukkan betapa efektifnya 'Region_Code' R1 dalam memaksimalkan potensi yang ada, selain itu juga 'Region_Code' R1 menghasilkan 'Total_Sales' yang paling besar dibandingkan dengan 'Region_Code' lainnya.\n",
    "5. Sorted.df4 menunjukkan bahwa 'Location_Type' L1 menghasilkan 'Total_Sales' yang paling besar dibandingkan dengan 'Location_Type' lainnya. Sorted.df4 juga menunjukkan bahwa 'Location_Type' L2 mempunya efektivitas pengelolaan potensi yang terbesar.\n",
    "6. Rata-rata jumlah pesanan meningkat pada hari-hari dengan diskon. Hal ini menunjukkan bahwa pelanggan lebih terdorong untuk membeli ketika ada diskon, yang mengindikasikan sensitivitas pelanggan terhadap harga. Rata-rata penjualan 'Sales' juga menunjukkan peningkatan pada hari-hari dengan diskon. Ini berarti diskon tidak hanya menarik lebih banyak pesanan, tetapi juga meningkatkan total pendapatan, menunjukkan bahwa diskon dapat mendorong lebih banyak pembelian tanpa mengurangi nilai transaksi secara signifikan.\n",
    "7. Pada masing-masing Location_Type, jumlah order saat tidak holiday menunjukkan angka yang lebih tinggi dibandingkan dengan saat holiday. Hal ini menunjukkan bahwa konsumen cenderung lebih aktif berbelanja pada hari-hari biasa. Hal ini mungkin disebabkan oleh berbagai faktor, seperti kebiasaan belanja yang lebih stabil dan ketersediaan waktu yang lebih banyak untuk melakukan transaksi. Saat hari libur, orang sering terlibat dalam kegiatan lain, seperti berkumpul dengan keluarga atau berlibur, sehingga perhatian mereka terhadap belanja berkurang. "
   ]
  },
  {
   "cell_type": "markdown",
   "id": "1605805c-4933-4c92-9928-acaf35d727ce",
   "metadata": {},
   "source": [
    "## 3. Business recommendation"
   ]
  },
  {
   "cell_type": "markdown",
   "id": "9328861b-9c76-491f-ac4b-692dc112213c",
   "metadata": {},
   "source": [
    "1. Untuk meningkatkan jumlah Sales atau revenue, 'Store_Type' lain mungkin harus bisa mencontoh apa-apa saja yang perlu ditingkatkan berkaca dari 'Store_Type' S1. Begitupun juga dengan 'Region_Code' dan 'Location_Type' lain yang dapat berkaca ke masing-masing 'Region_Code' R1 dan 'Location_Type' L2 dalam memaksimalkan potensi yang ada.\n",
    "2. Untuk meningkatkan jumlah pesanan secara efektif, mungkin dapat dengan mengoptimalkan strategi diskon pada tipe toko yang menunjukkan respons paling tinggi terhadap diskon (misalnya, Store_Type S1). Tipe toko yang kurang merespons diskon bisa diberikan promosi alternatif, seperti program loyalitas atau paket bundling. Mungkin juga dapat mempertimbangkan untuk meningkatkan frekuensi diskon di hari-hari dengan volume penjualan rendah untuk menjaga tingkat penjualan tetap stabil.\n",
    "3. WOMart sebaiknya mengembangkan strategi pemasaran yang lebih masif untuk periode non-holiday, seperti memberikan promosi khusus, bundling produk, atau program loyalitas yang menarik. Ini bertujuan untuk mempertahankan momentum penjualan dan mendorong konsumen untuk terus melakukan pembelian. Selain itu, WOMart perlu mengeksplorasi cara untuk membuat pengalaman belanja di hari-hari libur lebih menarik, misalnya dengan mengadakan event, menawarkan diskon eksklusif, atau memperkenalkan produk baru yang sesuai dengan tema liburan. "
   ]
  },
  {
   "cell_type": "code",
   "execution_count": null,
   "id": "6901c34b-16ee-4a89-9b44-4ce6c3b3765b",
   "metadata": {},
   "outputs": [],
   "source": []
  }
 ],
 "metadata": {
  "kernelspec": {
   "display_name": "Python 3 (ipykernel)",
   "language": "python",
   "name": "python3"
  },
  "language_info": {
   "codemirror_mode": {
    "name": "ipython",
    "version": 3
   },
   "file_extension": ".py",
   "mimetype": "text/x-python",
   "name": "python",
   "nbconvert_exporter": "python",
   "pygments_lexer": "ipython3",
   "version": "3.12.4"
  }
 },
 "nbformat": 4,
 "nbformat_minor": 5
}
